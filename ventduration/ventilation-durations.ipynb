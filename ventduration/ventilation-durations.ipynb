{
 "cells": [
  {
   "cell_type": "markdown",
   "metadata": {},
   "source": [
    "# Ventilation durations"
   ]
  },
  {
   "cell_type": "markdown",
   "metadata": {},
   "source": [
    "Query based on the MIMIC ventilation-durations approach to generate a list of start and stop times for mechanical ventilation. \n",
    "\n",
    "Currently only looking at `hospitalid = 243`"
   ]
  },
  {
   "cell_type": "markdown",
   "metadata": {},
   "source": [
    "### Invasive: \n",
    "- mean_airway_pressure \n",
    "- mv_mode (all simv; all prvc; ac; bi-vent;\n",
    "- peak_pressure\n",
    "- plateau_pressure\n",
    "- ps\n",
    "- rsbi\n",
    "\n",
    "### Both invasive and non-invasive: \n",
    "- fio2\n",
    "- mve\n",
    "- peep\n",
    "\n",
    "### Weaning trial:\n",
    "- rsbi"
   ]
  },
  {
   "cell_type": "code",
   "execution_count": 1,
   "metadata": {
    "collapsed": true
   },
   "outputs": [],
   "source": [
    "# Import libraries\n",
    "import numpy as np\n",
    "import pandas as pd\n",
    "import matplotlib.pyplot as plt\n",
    "import psycopg2\n",
    "import getpass\n",
    "%matplotlib inline"
   ]
  },
  {
   "cell_type": "code",
   "execution_count": 5,
   "metadata": {
    "collapsed": true
   },
   "outputs": [],
   "source": [
    "# Create a database connection\n",
    "user = 'postgres'\n",
    "host = 'localhost'\n",
    "dbname = 'eicu'\n",
    "schema = 'public, eicu_crd_phi'"
   ]
  },
  {
   "cell_type": "code",
   "execution_count": 11,
   "metadata": {},
   "outputs": [
    {
     "name": "stdout",
     "output_type": "stream",
     "text": [
      "Password:········\n"
     ]
    }
   ],
   "source": [
    "# Connect to the database\n",
    "con = psycopg2.connect(dbname=dbname, user=user, host=host, \n",
    "                       password=getpass.getpass(prompt='Password:'.format(user)))\n",
    "cur = con.cursor()\n",
    "cur.execute('SET search_path to {}'.format(schema))"
   ]
  },
  {
   "cell_type": "code",
   "execution_count": 12,
   "metadata": {},
   "outputs": [],
   "source": [
    "with open('./ventilation-durations.sql', 'r') as f:\n",
    "    buildviews_vent = f.read()\n",
    "cur.execute(buildviews_vent)\n",
    "\n",
    "# Also interested in the following details in careplangeneral:\n",
    "# - Do not resuscitate\n",
    "# - Comfort measures only\n",
    "# - End of life\n",
    "# - Terminal\n",
    "\n",
    "with open('./end-of-life.sql', 'r') as f:\n",
    "    buildviews_eol = f.read()\n",
    "cur.execute(buildviews_eol)"
   ]
  },
  {
   "cell_type": "code",
   "execution_count": 16,
   "metadata": {},
   "outputs": [],
   "source": [
    "query = \\\n",
    "\"\"\"\n",
    "SELECT v.*, \n",
    "       max(CASE WHEN e.dnr_offset IS NOT NULL THEN 1 ELSE NULL END) as dnr, \n",
    "       max(CASE WHEN e.cmo_offset IS NOT NULL THEN 1 ELSE NULL END) as cmo, \n",
    "       max(CASE WHEN e.endoflife_offset IS NOT NULL THEN 1 ELSE NULL END) as endoflife, \n",
    "       max(CASE WHEN e.terminal_offset IS NOT NULL THEN 1 ELSE NULL END) as terminal\n",
    "FROM ventdurations v\n",
    "LEFT JOIN endoflife e\n",
    "ON v.patientunitstayid = e.patientunitstayid\n",
    "GROUP BY v.patientunitstayid, v.ventnum, v.startoffset, v.endoffset,\n",
    "    v.duration_minutes\n",
    "ORDER BY patientunitstayid, ventnum;\n",
    "\"\"\"\n",
    "\n",
    "data = pd.read_sql_query(query,con)"
   ]
  },
  {
   "cell_type": "code",
   "execution_count": 18,
   "metadata": {},
   "outputs": [
    {
     "data": {
      "text/html": [
       "<div>\n",
       "<style>\n",
       "    .dataframe thead tr:only-child th {\n",
       "        text-align: right;\n",
       "    }\n",
       "\n",
       "    .dataframe thead th {\n",
       "        text-align: left;\n",
       "    }\n",
       "\n",
       "    .dataframe tbody tr th {\n",
       "        vertical-align: top;\n",
       "    }\n",
       "</style>\n",
       "<table border=\"1\" class=\"dataframe\">\n",
       "  <thead>\n",
       "    <tr style=\"text-align: right;\">\n",
       "      <th></th>\n",
       "      <th>patientunitstayid</th>\n",
       "      <th>ventnum</th>\n",
       "      <th>startoffset</th>\n",
       "      <th>endoffset</th>\n",
       "      <th>duration_minutes</th>\n",
       "      <th>dnr</th>\n",
       "      <th>cmo</th>\n",
       "      <th>endoflife</th>\n",
       "      <th>terminal</th>\n",
       "    </tr>\n",
       "  </thead>\n",
       "  <tbody>\n",
       "    <tr>\n",
       "      <th>0</th>\n",
       "      <td>1433759</td>\n",
       "      <td>1</td>\n",
       "      <td>98</td>\n",
       "      <td>518</td>\n",
       "      <td>420</td>\n",
       "      <td>NaN</td>\n",
       "      <td>NaN</td>\n",
       "      <td>NaN</td>\n",
       "      <td>NaN</td>\n",
       "    </tr>\n",
       "    <tr>\n",
       "      <th>1</th>\n",
       "      <td>1433775</td>\n",
       "      <td>1</td>\n",
       "      <td>163</td>\n",
       "      <td>5256</td>\n",
       "      <td>5093</td>\n",
       "      <td>NaN</td>\n",
       "      <td>NaN</td>\n",
       "      <td>NaN</td>\n",
       "      <td>NaN</td>\n",
       "    </tr>\n",
       "    <tr>\n",
       "      <th>2</th>\n",
       "      <td>1433775</td>\n",
       "      <td>2</td>\n",
       "      <td>6248</td>\n",
       "      <td>6690</td>\n",
       "      <td>442</td>\n",
       "      <td>NaN</td>\n",
       "      <td>NaN</td>\n",
       "      <td>NaN</td>\n",
       "      <td>NaN</td>\n",
       "    </tr>\n",
       "    <tr>\n",
       "      <th>3</th>\n",
       "      <td>1433777</td>\n",
       "      <td>1</td>\n",
       "      <td>45</td>\n",
       "      <td>2720</td>\n",
       "      <td>2675</td>\n",
       "      <td>NaN</td>\n",
       "      <td>NaN</td>\n",
       "      <td>NaN</td>\n",
       "      <td>NaN</td>\n",
       "    </tr>\n",
       "    <tr>\n",
       "      <th>4</th>\n",
       "      <td>1433812</td>\n",
       "      <td>1</td>\n",
       "      <td>290</td>\n",
       "      <td>2202</td>\n",
       "      <td>1912</td>\n",
       "      <td>NaN</td>\n",
       "      <td>NaN</td>\n",
       "      <td>NaN</td>\n",
       "      <td>NaN</td>\n",
       "    </tr>\n",
       "  </tbody>\n",
       "</table>\n",
       "</div>"
      ],
      "text/plain": [
       "   patientunitstayid  ventnum  startoffset  endoffset  duration_minutes  dnr  \\\n",
       "0            1433759        1           98        518               420  NaN   \n",
       "1            1433775        1          163       5256              5093  NaN   \n",
       "2            1433775        2         6248       6690               442  NaN   \n",
       "3            1433777        1           45       2720              2675  NaN   \n",
       "4            1433812        1          290       2202              1912  NaN   \n",
       "\n",
       "   cmo  endoflife  terminal  \n",
       "0  NaN        NaN       NaN  \n",
       "1  NaN        NaN       NaN  \n",
       "2  NaN        NaN       NaN  \n",
       "3  NaN        NaN       NaN  \n",
       "4  NaN        NaN       NaN  "
      ]
     },
     "execution_count": 18,
     "metadata": {},
     "output_type": "execute_result"
    }
   ],
   "source": [
    "data.head()"
   ]
  },
  {
   "cell_type": "code",
   "execution_count": 19,
   "metadata": {},
   "outputs": [
    {
     "data": {
      "text/html": [
       "<div>\n",
       "<style>\n",
       "    .dataframe thead tr:only-child th {\n",
       "        text-align: right;\n",
       "    }\n",
       "\n",
       "    .dataframe thead th {\n",
       "        text-align: left;\n",
       "    }\n",
       "\n",
       "    .dataframe tbody tr th {\n",
       "        vertical-align: top;\n",
       "    }\n",
       "</style>\n",
       "<table border=\"1\" class=\"dataframe\">\n",
       "  <thead>\n",
       "    <tr style=\"text-align: right;\">\n",
       "      <th></th>\n",
       "      <th>patientunitstayid</th>\n",
       "      <th>ventnum</th>\n",
       "      <th>startoffset</th>\n",
       "      <th>endoffset</th>\n",
       "      <th>duration_minutes</th>\n",
       "      <th>dnr</th>\n",
       "      <th>cmo</th>\n",
       "      <th>endoflife</th>\n",
       "      <th>terminal</th>\n",
       "    </tr>\n",
       "  </thead>\n",
       "  <tbody>\n",
       "    <tr>\n",
       "      <th>count</th>\n",
       "      <td>1.455000e+03</td>\n",
       "      <td>1455.000000</td>\n",
       "      <td>1455.000000</td>\n",
       "      <td>1455.000000</td>\n",
       "      <td>1455.000000</td>\n",
       "      <td>294.0</td>\n",
       "      <td>8.0</td>\n",
       "      <td>1.0</td>\n",
       "      <td>5.0</td>\n",
       "    </tr>\n",
       "    <tr>\n",
       "      <th>mean</th>\n",
       "      <td>1.493570e+06</td>\n",
       "      <td>1.320275</td>\n",
       "      <td>2021.991065</td>\n",
       "      <td>5074.603436</td>\n",
       "      <td>3052.612371</td>\n",
       "      <td>1.0</td>\n",
       "      <td>1.0</td>\n",
       "      <td>1.0</td>\n",
       "      <td>1.0</td>\n",
       "    </tr>\n",
       "    <tr>\n",
       "      <th>std</th>\n",
       "      <td>3.458980e+04</td>\n",
       "      <td>0.824634</td>\n",
       "      <td>5945.002215</td>\n",
       "      <td>7100.634439</td>\n",
       "      <td>4148.142884</td>\n",
       "      <td>0.0</td>\n",
       "      <td>0.0</td>\n",
       "      <td>NaN</td>\n",
       "      <td>0.0</td>\n",
       "    </tr>\n",
       "    <tr>\n",
       "      <th>min</th>\n",
       "      <td>1.433759e+06</td>\n",
       "      <td>1.000000</td>\n",
       "      <td>-12640.000000</td>\n",
       "      <td>-12474.000000</td>\n",
       "      <td>10.000000</td>\n",
       "      <td>1.0</td>\n",
       "      <td>1.0</td>\n",
       "      <td>1.0</td>\n",
       "      <td>1.0</td>\n",
       "    </tr>\n",
       "    <tr>\n",
       "      <th>25%</th>\n",
       "      <td>1.464251e+06</td>\n",
       "      <td>1.000000</td>\n",
       "      <td>-56.500000</td>\n",
       "      <td>721.500000</td>\n",
       "      <td>484.500000</td>\n",
       "      <td>1.0</td>\n",
       "      <td>1.0</td>\n",
       "      <td>1.0</td>\n",
       "      <td>1.0</td>\n",
       "    </tr>\n",
       "    <tr>\n",
       "      <th>50%</th>\n",
       "      <td>1.493804e+06</td>\n",
       "      <td>1.000000</td>\n",
       "      <td>5.000000</td>\n",
       "      <td>2336.000000</td>\n",
       "      <td>1326.000000</td>\n",
       "      <td>1.0</td>\n",
       "      <td>1.0</td>\n",
       "      <td>1.0</td>\n",
       "      <td>1.0</td>\n",
       "    </tr>\n",
       "    <tr>\n",
       "      <th>75%</th>\n",
       "      <td>1.523652e+06</td>\n",
       "      <td>1.000000</td>\n",
       "      <td>385.500000</td>\n",
       "      <td>6644.000000</td>\n",
       "      <td>3877.000000</td>\n",
       "      <td>1.0</td>\n",
       "      <td>1.0</td>\n",
       "      <td>1.0</td>\n",
       "      <td>1.0</td>\n",
       "    </tr>\n",
       "    <tr>\n",
       "      <th>max</th>\n",
       "      <td>1.553364e+06</td>\n",
       "      <td>8.000000</td>\n",
       "      <td>51439.000000</td>\n",
       "      <td>52318.000000</td>\n",
       "      <td>40756.000000</td>\n",
       "      <td>1.0</td>\n",
       "      <td>1.0</td>\n",
       "      <td>1.0</td>\n",
       "      <td>1.0</td>\n",
       "    </tr>\n",
       "  </tbody>\n",
       "</table>\n",
       "</div>"
      ],
      "text/plain": [
       "       patientunitstayid      ventnum   startoffset     endoffset  \\\n",
       "count       1.455000e+03  1455.000000   1455.000000   1455.000000   \n",
       "mean        1.493570e+06     1.320275   2021.991065   5074.603436   \n",
       "std         3.458980e+04     0.824634   5945.002215   7100.634439   \n",
       "min         1.433759e+06     1.000000 -12640.000000 -12474.000000   \n",
       "25%         1.464251e+06     1.000000    -56.500000    721.500000   \n",
       "50%         1.493804e+06     1.000000      5.000000   2336.000000   \n",
       "75%         1.523652e+06     1.000000    385.500000   6644.000000   \n",
       "max         1.553364e+06     8.000000  51439.000000  52318.000000   \n",
       "\n",
       "       duration_minutes    dnr  cmo  endoflife  terminal  \n",
       "count       1455.000000  294.0  8.0        1.0       5.0  \n",
       "mean        3052.612371    1.0  1.0        1.0       1.0  \n",
       "std         4148.142884    0.0  0.0        NaN       0.0  \n",
       "min           10.000000    1.0  1.0        1.0       1.0  \n",
       "25%          484.500000    1.0  1.0        1.0       1.0  \n",
       "50%         1326.000000    1.0  1.0        1.0       1.0  \n",
       "75%         3877.000000    1.0  1.0        1.0       1.0  \n",
       "max        40756.000000    1.0  1.0        1.0       1.0  "
      ]
     },
     "execution_count": 19,
     "metadata": {},
     "output_type": "execute_result"
    }
   ],
   "source": [
    "data.describe()"
   ]
  },
  {
   "cell_type": "code",
   "execution_count": 35,
   "metadata": {},
   "outputs": [
    {
     "data": {
      "text/plain": [
       "<matplotlib.text.Text at 0x10cd5d978>"
      ]
     },
     "execution_count": 35,
     "metadata": {},
     "output_type": "execute_result"
    },
    {
     "data": {
      "image/png": "[encoded data removed]",
      "text/plain": [
       "<matplotlib.figure.Figure at 0x10cd2b160>"
      ]
     },
     "metadata": {},
     "output_type": "display_data"
    }
   ],
   "source": [
    "plt.figure(figsize=(10, 5))\n",
    "plt.rcParams.update({'font.size': 22})\n",
    "ax = plt.hist(data.duration_minutes.values/60/24, bins=40, range=(0, 8))\n",
    "plt.xlabel('Days on ventilation', fontsize=22)\n",
    "plt.ylabel('Number of \\nventilation events', fontsize=22)"
   ]
  },
  {
   "cell_type": "markdown",
   "metadata": {
    "collapsed": true
   },
   "source": [
    "## Notes on `careplangeneral` table\n",
    "\n",
    "Useful to cross reference following rows in the `cplitemvalue` column:\n",
    "\n",
    "- Ventilated - chronic dependency\n",
    "- Ventilated - rapid wean/extubation\n",
    "- Ventilated - with daily extubation evaluation\n",
    "- Ventilated - with no daily extubation trial\n",
    "- Ventilator bundle\n",
    "- Ventilator wean\n",
    "- Not intubated/normal airway\n",
    "- Not intubated/partial airway obstruction\n",
    "- Intubated/nasal ETT\n",
    "- Intubated/nasal ETT - difficult\n",
    "- Intubated/oral ETT\n",
    "- Intubated/oral ETT - difficult\n",
    "- Intubated/trach-acute\n",
    "- Intubated/trach-chronic\n",
    "- Non-invasive ventilation\n",
    "- Open to air\n",
    "- Respiratory Issue"
   ]
  },
  {
   "cell_type": "code",
   "execution_count": 36,
   "metadata": {
    "collapsed": true
   },
   "outputs": [],
   "source": [
    "data.to_csv('./hospital_243_vent.csv')"
   ]
  }
 ],
 "metadata": {
  "kernelspec": {
   "display_name": "Python 3",
   "language": "python",
   "name": "python3"
  },
  "language_info": {
   "codemirror_mode": {
    "name": "ipython",
    "version": 3
   },
   "file_extension": ".py",
   "mimetype": "text/x-python",
   "name": "python",
   "nbconvert_exporter": "python",
   "pygments_lexer": "ipython3",
   "version": "3.6.1"
  }
 },
 "nbformat": 4,
 "nbformat_minor": 2
}
