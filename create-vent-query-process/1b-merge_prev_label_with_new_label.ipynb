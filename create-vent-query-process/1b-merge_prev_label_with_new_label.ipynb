{
 "cells": [
  {
   "cell_type": "code",
   "execution_count": null,
   "metadata": {
    "collapsed": true
   },
   "outputs": [],
   "source": [
    "import pandas as pd"
   ]
  },
  {
   "cell_type": "code",
   "execution_count": null,
   "metadata": {
    "collapsed": true
   },
   "outputs": [],
   "source": [
    "df_label = pd.read_csv('respiratorycharting_labelled.csv')\n",
    "df_orig = pd.read_csv('respiratorycharting.csv')\n",
    "\n",
    "df_label.set_index(['respchartvaluelabel', 'respcharttypecat'],inplace=True)\n",
    "df_orig.set_index(['respchartvaluelabel', 'respcharttypecat'],inplace=True)"
   ]
  },
  {
   "cell_type": "code",
   "execution_count": null,
   "metadata": {
    "collapsed": true
   },
   "outputs": [],
   "source": [
    "cols = ['group','new_label','addition','multiplication']\n",
    "df = df_orig.merge(df_label[cols], how='left',\n",
    "                  left_index=True, right_index=True)"
   ]
  },
  {
   "cell_type": "code",
   "execution_count": null,
   "metadata": {
    "collapsed": true
   },
   "outputs": [],
   "source": [
    "# output the merged to a file incase we want to add new labels\n",
    "df.sort_values('n_pat', ascending=False).to_csv('respiratorycharting_add_more_labels.csv')"
   ]
  },
  {
   "cell_type": "code",
   "execution_count": null,
   "metadata": {
    "collapsed": false
   },
   "outputs": [],
   "source": [
    "# drop unmatched columms\n",
    "idxRem = df['new_label'].isnull()\n",
    "df = df.loc[~idxRem,:]"
   ]
  },
  {
   "cell_type": "code",
   "execution_count": null,
   "metadata": {
    "collapsed": false
   },
   "outputs": [],
   "source": [
    "# output to csv\n",
    "df.to_csv('respiratorycharting_labelled.csv')"
   ]
  }
 ],
 "metadata": {
  "kernelspec": {
   "display_name": "Python 3.5",
   "language": "python",
   "name": "python35"
  },
  "language_info": {
   "codemirror_mode": {
    "name": "ipython",
    "version": 3
   },
   "file_extension": ".py",
   "mimetype": "text/x-python",
   "name": "python",
   "nbconvert_exporter": "python",
   "pygments_lexer": "ipython3",
   "version": "3.5.2"
  }
 },
 "nbformat": 4,
 "nbformat_minor": 0
}
